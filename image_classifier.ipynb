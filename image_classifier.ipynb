{
  "nbformat": 4,
  "nbformat_minor": 0,
  "metadata": {
    "colab": {
      "provenance": []
    },
    "kernelspec": {
      "name": "python3",
      "display_name": "Python 3"
    },
    "language_info": {
      "name": "python"
    }
  },
  "cells": [
    {
      "cell_type": "code",
      "execution_count": null,
      "metadata": {
        "id": "uizdp1zq5OW9"
      },
      "outputs": [],
      "source": [
        "import numpy\n",
        "from keras.models import Sequential\n",
        "from keras.layers import Dense,Dropout,Flatten,Conv2D,MaxPooling2D\n",
        "from keras.constraints import maxnorm\n",
        "from keras.optimizers import SGD\n",
        "from keras.utils import np_utils \n",
        "from keras import backend as K \n",
        "#K.set_image_dim_ordering('tf')\n",
        "\n"
      ]
    },
    {
      "cell_type": "code",
      "source": [
        "from keras.datasets import cifar10"
      ],
      "metadata": {
        "id": "H3kUuE2H7Lq4"
      },
      "execution_count": null,
      "outputs": []
    },
    {
      "cell_type": "code",
      "source": [
        "(X_train, y_train), (X_test, y_test) = cifar10.load_data()"
      ],
      "metadata": {
        "colab": {
          "base_uri": "https://localhost:8080/"
        },
        "id": "NeKU5zJ77Lvv",
        "outputId": "7caa98d9-3cca-4487-f493-b246c9ae1615"
      },
      "execution_count": null,
      "outputs": [
        {
          "output_type": "stream",
          "name": "stdout",
          "text": [
            "Downloading data from https://www.cs.toronto.edu/~kriz/cifar-10-python.tar.gz\n",
            "170498071/170498071 [==============================] - 3s 0us/step\n"
          ]
        }
      ]
    },
    {
      "cell_type": "code",
      "source": [
        "X_train = X_train.astype('float32') \n",
        "X_test = X_test.astype('float32') \n",
        "X_train = X_train / 255.0 \n",
        "X_test = X_test / 255.0"
      ],
      "metadata": {
        "id": "gwwsP7Io7LzO"
      },
      "execution_count": null,
      "outputs": []
    },
    {
      "cell_type": "code",
      "source": [
        "y_train = np_utils.to_categorical(y_train) \n",
        "y_test = np_utils.to_categorical(y_test) \n",
        "num_classes = y_test.shape[1]"
      ],
      "metadata": {
        "id": "p2GD9X1c7L22"
      },
      "execution_count": null,
      "outputs": []
    },
    {
      "cell_type": "code",
      "source": [
        "model = Sequential()"
      ],
      "metadata": {
        "id": "Ru5slyPg7L5i"
      },
      "execution_count": null,
      "outputs": []
    },
    {
      "cell_type": "code",
      "source": [
        "model.add(Conv2D(32, (3, 3), input_shape=(32,32,3), activation='relu', padding='same')) \n",
        "model.add(Dropout(0.2)) \n",
        "model.add(Conv2D(32, (3, 3), activation='relu', padding='same')) \n",
        "model.add(MaxPooling2D(pool_size=(2, 2))) \n",
        "model.add(Conv2D(64, (3, 3), activation='relu', padding='same')) \n",
        "model.add(Dropout(0.2)) \n",
        "model.add(Conv2D(64, (3, 3), activation='relu', padding='same')) \n",
        "model.add(MaxPooling2D(pool_size=(2, 2))) \n",
        "model.add(Conv2D(128, (3, 3), activation='relu', padding='same')) \n",
        "model.add(Dropout(0.2)) \n",
        "model.add(Conv2D(128, (3, 3), activation='relu', padding='same')) \n",
        "model.add(MaxPooling2D(pool_size=(2, 2))) \n",
        "model.add(Flatten()),model.add(Dropout(0.2)) \n",
        "model.add(Dense(1024, activation='relu', kernel_constraint=maxnorm(3))) \n",
        "model.add(Dropout(0.2)) \n",
        "model.add(Dense(512, activation='relu', kernel_constraint=maxnorm(3))) \n",
        "model.add(Dropout(0.2)) \n",
        "model.add(Dense(num_classes, activation='softmax'))"
      ],
      "metadata": {
        "id": "T8Yr9JBl7L7s"
      },
      "execution_count": null,
      "outputs": []
    },
    {
      "cell_type": "code",
      "source": [
        "print(model.summary())"
      ],
      "metadata": {
        "colab": {
          "base_uri": "https://localhost:8080/"
        },
        "id": "4EOK_rMt9B8-",
        "outputId": "5610a9cc-a293-440c-e5bc-49fa5822ae1e"
      },
      "execution_count": null,
      "outputs": [
        {
          "output_type": "stream",
          "name": "stdout",
          "text": [
            "Model: \"sequential\"\n",
            "_________________________________________________________________\n",
            " Layer (type)                Output Shape              Param #   \n",
            "=================================================================\n",
            " conv2d (Conv2D)             (None, 32, 32, 32)        896       \n",
            "                                                                 \n",
            " dropout (Dropout)           (None, 32, 32, 32)        0         \n",
            "                                                                 \n",
            " conv2d_1 (Conv2D)           (None, 32, 32, 32)        9248      \n",
            "                                                                 \n",
            " max_pooling2d (MaxPooling2D  (None, 16, 16, 32)       0         \n",
            " )                                                               \n",
            "                                                                 \n",
            " conv2d_2 (Conv2D)           (None, 16, 16, 64)        18496     \n",
            "                                                                 \n",
            " dropout_1 (Dropout)         (None, 16, 16, 64)        0         \n",
            "                                                                 \n",
            " conv2d_3 (Conv2D)           (None, 16, 16, 64)        36928     \n",
            "                                                                 \n",
            " max_pooling2d_1 (MaxPooling  (None, 8, 8, 64)         0         \n",
            " 2D)                                                             \n",
            "                                                                 \n",
            " conv2d_4 (Conv2D)           (None, 8, 8, 128)         73856     \n",
            "                                                                 \n",
            " dropout_2 (Dropout)         (None, 8, 8, 128)         0         \n",
            "                                                                 \n",
            " conv2d_5 (Conv2D)           (None, 8, 8, 128)         147584    \n",
            "                                                                 \n",
            " max_pooling2d_2 (MaxPooling  (None, 4, 4, 128)        0         \n",
            " 2D)                                                             \n",
            "                                                                 \n",
            " flatten (Flatten)           (None, 2048)              0         \n",
            "                                                                 \n",
            " dropout_3 (Dropout)         (None, 2048)              0         \n",
            "                                                                 \n",
            " dense (Dense)               (None, 1024)              2098176   \n",
            "                                                                 \n",
            " dropout_4 (Dropout)         (None, 1024)              0         \n",
            "                                                                 \n",
            " dense_1 (Dense)             (None, 512)               524800    \n",
            "                                                                 \n",
            " dropout_5 (Dropout)         (None, 512)               0         \n",
            "                                                                 \n",
            " dense_2 (Dense)             (None, 10)                5130      \n",
            "                                                                 \n",
            "=================================================================\n",
            "Total params: 2,915,114\n",
            "Trainable params: 2,915,114\n",
            "Non-trainable params: 0\n",
            "_________________________________________________________________\n",
            "None\n"
          ]
        }
      ]
    },
    {
      "cell_type": "code",
      "source": [
        "lrate = 0.01 \n",
        "decay = lrate#/epochs \n",
        "sgd = SGD(lr=lrate, momentum=0.9, decay=decay, nesterov=False) \n",
        "model.compile(loss='categorical_crossentropy', optimizer=sgd, metrics=['accuracy'])"
      ],
      "metadata": {
        "colab": {
          "base_uri": "https://localhost:8080/"
        },
        "id": "E2u5bh2S9CBu",
        "outputId": "77896a1c-f844-473f-823f-666677aa863b"
      },
      "execution_count": null,
      "outputs": [
        {
          "output_type": "stream",
          "name": "stderr",
          "text": [
            "/usr/local/lib/python3.10/dist-packages/keras/optimizers/legacy/gradient_descent.py:114: UserWarning: The `lr` argument is deprecated, use `learning_rate` instead.\n",
            "  super().__init__(name, **kwargs)\n"
          ]
        }
      ]
    },
    {
      "cell_type": "code",
      "source": [
        "model.fit(X_train, y_train, validation_data=(X_test, y_test), epochs=30, batch_size=32)\n",
        "scores = model.evaluate(X_test, y_test, verbose=0) \n",
        "print(\"Accuracy: %.2f%%\" % (scores[1]*100))\n"
      ],
      "metadata": {
        "colab": {
          "base_uri": "https://localhost:8080/"
        },
        "id": "ivs6OFU29CFo",
        "outputId": "fce822b0-897e-4e30-a746-445901d6ad4f"
      },
      "execution_count": null,
      "outputs": [
        {
          "output_type": "stream",
          "name": "stdout",
          "text": [
            "Epoch 1/30\n",
            "1563/1563 [==============================] - 573s 367ms/step - loss: 1.9452 - accuracy: 0.2837 - val_loss: 1.9433 - val_accuracy: 0.3028\n",
            "Epoch 2/30\n",
            "1563/1563 [==============================] - 569s 364ms/step - loss: 1.7586 - accuracy: 0.3528 - val_loss: 1.7925 - val_accuracy: 0.3476\n",
            "Epoch 3/30\n",
            "1563/1563 [==============================] - 545s 349ms/step - loss: 1.6794 - accuracy: 0.3825 - val_loss: 1.7487 - val_accuracy: 0.3646\n",
            "Epoch 4/30\n",
            "1563/1563 [==============================] - 525s 336ms/step - loss: 1.6384 - accuracy: 0.3953 - val_loss: 1.7124 - val_accuracy: 0.3770\n",
            "Epoch 5/30\n",
            "1563/1563 [==============================] - 526s 337ms/step - loss: 1.6071 - accuracy: 0.4076 - val_loss: 1.6560 - val_accuracy: 0.3912\n",
            "Epoch 6/30\n",
            "1563/1563 [==============================] - 525s 336ms/step - loss: 1.5816 - accuracy: 0.4176 - val_loss: 1.6673 - val_accuracy: 0.3888\n",
            "Epoch 7/30\n",
            "1563/1563 [==============================] - 521s 333ms/step - loss: 1.5631 - accuracy: 0.4249 - val_loss: 1.6420 - val_accuracy: 0.3990\n",
            "Epoch 8/30\n",
            "1563/1563 [==============================] - 521s 333ms/step - loss: 1.5454 - accuracy: 0.4340 - val_loss: 1.6585 - val_accuracy: 0.3969\n",
            "Epoch 9/30\n",
            "1563/1563 [==============================] - 523s 335ms/step - loss: 1.5347 - accuracy: 0.4365 - val_loss: 1.6666 - val_accuracy: 0.3946\n",
            "Epoch 10/30\n",
            "1563/1563 [==============================] - 525s 336ms/step - loss: 1.5250 - accuracy: 0.4386 - val_loss: 1.6228 - val_accuracy: 0.4077\n",
            "Epoch 11/30\n",
            "1563/1563 [==============================] - 527s 337ms/step - loss: 1.5124 - accuracy: 0.4468 - val_loss: 1.5941 - val_accuracy: 0.4184\n",
            "Epoch 12/30\n",
            "1563/1563 [==============================] - 550s 352ms/step - loss: 1.4998 - accuracy: 0.4509 - val_loss: 1.6411 - val_accuracy: 0.4080\n",
            "Epoch 13/30\n",
            "1563/1563 [==============================] - 526s 336ms/step - loss: 1.4930 - accuracy: 0.4553 - val_loss: 1.6014 - val_accuracy: 0.4211\n",
            "Epoch 14/30\n",
            "1563/1563 [==============================] - 525s 336ms/step - loss: 1.4860 - accuracy: 0.4539 - val_loss: 1.6131 - val_accuracy: 0.4193\n",
            "Epoch 15/30\n",
            "1563/1563 [==============================] - 525s 336ms/step - loss: 1.4759 - accuracy: 0.4597 - val_loss: 1.5347 - val_accuracy: 0.4425\n",
            "Epoch 16/30\n",
            "1563/1563 [==============================] - 522s 334ms/step - loss: 1.4705 - accuracy: 0.4607 - val_loss: 1.5876 - val_accuracy: 0.4255\n",
            "Epoch 17/30\n",
            "1563/1563 [==============================] - 524s 335ms/step - loss: 1.4657 - accuracy: 0.4633 - val_loss: 1.5702 - val_accuracy: 0.4313\n",
            "Epoch 18/30\n",
            "1563/1563 [==============================] - 524s 335ms/step - loss: 1.4607 - accuracy: 0.4665 - val_loss: 1.6125 - val_accuracy: 0.4215\n",
            "Epoch 19/30\n",
            "1563/1563 [==============================] - 527s 337ms/step - loss: 1.4524 - accuracy: 0.4675 - val_loss: 1.6028 - val_accuracy: 0.4258\n",
            "Epoch 20/30\n",
            "1563/1563 [==============================] - 529s 339ms/step - loss: 1.4451 - accuracy: 0.4704 - val_loss: 1.5365 - val_accuracy: 0.4449\n",
            "Epoch 21/30\n",
            "1563/1563 [==============================] - 524s 335ms/step - loss: 1.4419 - accuracy: 0.4709 - val_loss: 1.5907 - val_accuracy: 0.4294\n",
            "Epoch 22/30\n",
            "1563/1563 [==============================] - 526s 336ms/step - loss: 1.4388 - accuracy: 0.4715 - val_loss: 1.5757 - val_accuracy: 0.4335\n",
            "Epoch 23/30\n",
            "1563/1563 [==============================] - 522s 334ms/step - loss: 1.4342 - accuracy: 0.4732 - val_loss: 1.5526 - val_accuracy: 0.4398\n",
            "Epoch 24/30\n",
            "1563/1563 [==============================] - 527s 337ms/step - loss: 1.4270 - accuracy: 0.4775 - val_loss: 1.5382 - val_accuracy: 0.4461\n",
            "Epoch 25/30\n",
            "1563/1563 [==============================] - 530s 339ms/step - loss: 1.4244 - accuracy: 0.4792 - val_loss: 1.5508 - val_accuracy: 0.4429\n",
            "Epoch 26/30\n",
            "1563/1563 [==============================] - 531s 340ms/step - loss: 1.4214 - accuracy: 0.4798 - val_loss: 1.5152 - val_accuracy: 0.4522\n",
            "Epoch 27/30\n",
            "1563/1563 [==============================] - 528s 338ms/step - loss: 1.4181 - accuracy: 0.4828 - val_loss: 1.5475 - val_accuracy: 0.4435\n",
            "Epoch 28/30\n",
            "1563/1563 [==============================] - 526s 336ms/step - loss: 1.4109 - accuracy: 0.4836 - val_loss: 1.5392 - val_accuracy: 0.4459\n",
            "Epoch 29/30\n",
            "1563/1563 [==============================] - 527s 337ms/step - loss: 1.4091 - accuracy: 0.4848 - val_loss: 1.5441 - val_accuracy: 0.4440\n",
            "Epoch 30/30\n",
            "1563/1563 [==============================] - 529s 339ms/step - loss: 1.4055 - accuracy: 0.4873 - val_loss: 1.4757 - val_accuracy: 0.4655\n",
            "Accuracy: 46.55%\n"
          ]
        }
      ]
    },
    {
      "cell_type": "code",
      "source": [
        "from keras.models import load_model \n",
        "model.save('project_model.h5')"
      ],
      "metadata": {
        "id": "chdh6rAx9CPO"
      },
      "execution_count": null,
      "outputs": []
    },
    {
      "cell_type": "code",
      "source": [
        "from keras.models import load_model \n",
        "model = load_model('project_model.h5')"
      ],
      "metadata": {
        "id": "M_YeCUqHWkz0"
      },
      "execution_count": null,
      "outputs": []
    },
    {
      "cell_type": "code",
      "source": [
        "import numpy as np \n",
        "from tensorflow.keras.preprocessing import image\n",
        "test_image1 =image.load_img('/content/sample car.jpg',target_size =(32,32))"
      ],
      "metadata": {
        "id": "s1KdKYX0WlFI"
      },
      "execution_count": null,
      "outputs": []
    },
    {
      "cell_type": "code",
      "source": [
        "test_image =image.img_to_array(test_image1) \n",
        "test_image =np.expand_dims(test_image, axis =0) \n",
        "result = model.predict(test_image) \n",
        "print(result) \n",
        "if result[0][0]==1: \n",
        "    print(\"Aeroplane\") \n",
        "elif result[0][1]==1: \n",
        "    print('Automobile') \n",
        "elif result[0][2]==1: \n",
        "    print('Bird') \n",
        "elif result[0][3]==1: \n",
        "    print('Cat') \n",
        "elif result[0][4]==1: \n",
        "    print('Deer') \n",
        "elif result[0][5]==1: \n",
        "    print('Dog') \n",
        "elif result[0][6]==1: \n",
        "    print('Frog') \n",
        "elif result[0][7]==1: \n",
        "    print('Horse') \n",
        "elif result[0][8]==1: \n",
        "    print('Ship') \n",
        "elif result[0][9]==1: \n",
        "    print('Truck') \n",
        "else: \n",
        "    print('Error')"
      ],
      "metadata": {
        "colab": {
          "base_uri": "https://localhost:8080/"
        },
        "id": "POlOdOhhZzcd",
        "outputId": "57f7d7e8-eee9-44c5-f5a9-f763a31cf297"
      },
      "execution_count": null,
      "outputs": [
        {
          "output_type": "stream",
          "name": "stdout",
          "text": [
            "1/1 [==============================] - 0s 164ms/step\n",
            "[[0. 1. 0. 0. 0. 0. 0. 0. 0. 0.]]\n",
            "Automobile\n"
          ]
        }
      ]
    },
    {
      "cell_type": "code",
      "source": [
        "%matplotlib inline \n",
        "import matplotlib.pyplot as plt \n",
        "plt.imshow(test_image1)"
      ],
      "metadata": {
        "colab": {
          "base_uri": "https://localhost:8080/",
          "height": 448
        },
        "id": "G5-CA89NZ_rr",
        "outputId": "131ef0f6-cd7b-4522-8f40-3bd15d46d8d0"
      },
      "execution_count": null,
      "outputs": [
        {
          "output_type": "execute_result",
          "data": {
            "text/plain": [
              "<matplotlib.image.AxesImage at 0x7fae14198610>"
            ]
          },
          "metadata": {},
          "execution_count": 23
        },
        {
          "output_type": "display_data",
          "data": {
            "text/plain": [
              "<Figure size 640x480 with 1 Axes>"
            ],
            "image/png": "[encoded data removed]"
          },
          "metadata": {}
        }
      ]
    },
    {
      "cell_type": "code",
      "source": [],
      "metadata": {
        "id": "9ejlTSdKaJEd"
      },
      "execution_count": null,
      "outputs": []
    }
  ]
}